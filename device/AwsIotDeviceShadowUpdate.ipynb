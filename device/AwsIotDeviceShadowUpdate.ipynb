{
 "cells": [
  {
   "cell_type": "code",
   "execution_count": 1,
   "metadata": {
    "collapsed": true
   },
   "outputs": [],
   "source": [
    "import json\n",
    "from enum import Enum\n",
    "\n",
    "\n"
   ]
  },
  {
   "cell_type": "code",
   "execution_count": 2,
   "metadata": {
    "collapsed": true
   },
   "outputs": [],
   "source": [
    "certificate_folder = \"C:/Users/Tomonobu/Documents/home/Keyence/RaspPiIot/証明書_TestVirtualMachine/\""
   ]
  },
  {
   "cell_type": "code",
   "execution_count": 3,
   "metadata": {
    "collapsed": true
   },
   "outputs": [],
   "source": [
    "filepath_route_ca    = certificate_folder + \"VeriSign-Class 3-Public-Primary-Certification-Authority-G5.pem\"\n",
    "filepath_private_key = certificate_folder + \"0f19545793-private.pem.key\"\n",
    "filepath_certificate = certificate_folder + \"0f19545793-certificate.pem.crt\"\n"
   ]
  },
  {
   "cell_type": "code",
   "execution_count": 4,
   "metadata": {
    "collapsed": true
   },
   "outputs": [],
   "source": [
    "aws_deviceid = \"test_vm_ubuntu2\"\n",
    "endpoint = \"a3i29lc4oae1iw.iot.ap-northeast-1.amazonaws.com\"\n",
    "\n",
    "\n",
    "class Signal_State(Enum):\n",
    "    R_STOP = 1\n",
    "    YY_WARNING = 2\n",
    "    Y_CAUTION = 3\n",
    "    YG_DECEL = 4\n",
    "    Y_GO = 5"
   ]
  },
  {
   "cell_type": "code",
   "execution_count": 5,
   "metadata": {
    "collapsed": true
   },
   "outputs": [],
   "source": [
    "# Custom Shadow callback\n",
    "def customShadowCallback_Update(payload, responseStatus, token):\n",
    "    # payload is a JSON string ready to be parsed using json.loads(...)\n",
    "    # in both Py2.x and Py3.x\n",
    "    if responseStatus == \"timeout\":\n",
    "        print(\"Update request \" + token + \" time out!\")\n",
    "    if responseStatus == \"accepted\":\n",
    "        payloadDict = json.loads(payload)\n",
    "    if responseStatus == \"rejected\":\n",
    "        print(\"Update request \" + token + \" rejected!\")\n",
    "\n",
    "def customShadowCallback_Delete(payload, responseStatus, token):\n",
    "    if responseStatus == \"timeout\":\n",
    "        print(\"Delete request \" + token + \" time out!\")\n",
    "    if responseStatus == \"accepted\":\n",
    "        print(\"~~~~~~~~~~~~~~~~~~~~~~~\")\n",
    "        print(\"Delete request with token: \" + token + \" accepted!\")\n",
    "        print(\"~~~~~~~~~~~~~~~~~~~~~~~\\n\\n\")\n",
    "    if responseStatus == \"rejected\":\n",
    "        print(\"Delete request \" + token + \" rejected!\")\n"
   ]
  },
  {
   "cell_type": "code",
   "execution_count": 6,
   "metadata": {
    "collapsed": true
   },
   "outputs": [],
   "source": [
    "# 定位・反位(英語)\n",
    "# normal position･reverse position\n",
    "\n",
    "switch_list = [\"11\", \"12\", \"21\", \"22\"]\n",
    "signal_list = [\"1R\", \"2R\", \"3R\", \"1L\", \"2L\", \"3L\"]\n",
    "\n",
    "def makeSwitchObject(id, name, position):\n",
    "    switch = {\n",
    "        \"id\"       : id,\n",
    "        \"name\"     : name,\n",
    "        \"position\" : position\n",
    "    }\n",
    "    return switch\n",
    "\n",
    "def makeSignalObject(id, name):\n",
    "    signal = {\n",
    "        \"id\"         : id,\n",
    "        \"name\"       : name,\n",
    "        \"position\"   : 0,\n",
    "        \"indication\" : 0\n",
    "    }\n",
    "    return signal\n",
    "\n",
    "\n",
    "def initObject():\n",
    "    global State_Values\n",
    "    switches = []\n",
    "    signals  = []\n",
    "    id = 0\n",
    "    for switch_name in switch_list:\n",
    "        switches.append(makeSwitchObject(id, switch_name, 0))\n",
    "        id += 1\n",
    "    for signal_name in signal_list:\n",
    "        signals.append(makeSignalObject(id, signal_name))\n",
    "        id += 1\n",
    "    State_Values = {\n",
    "        \"signal\" : signals,\n",
    "        \"switch\" : switches\n",
    "    }\n",
    "initObject()\n",
    "\n"
   ]
  },
  {
   "cell_type": "code",
   "execution_count": 7,
   "metadata": {
    "collapsed": true
   },
   "outputs": [],
   "source": [
    "JSONPayload = '{\"state\":{\"reported\":'+json.dumps(State_Values)+'}}'\n"
   ]
  },
  {
   "cell_type": "code",
   "execution_count": null,
   "metadata": {
    "collapsed": true
   },
   "outputs": [],
   "source": [
    "\n",
    "# Custom Shadow callback\n",
    "def customShadowCallback_Delta(payload, responseStatus, token):\n",
    "    global Ctrl_Values\n",
    "    \n",
    "    # payload is a JSON string ready to be parsed using json.loads(...)\n",
    "    # in both Py2.x and Py3.x\n",
    "    print(responseStatus)\n",
    "    payloadDict = json.loads(payload)\n",
    "    print(payload)\n",
    "    print(\"++++++++DELTA++++++++++\")\n",
    "    print(\"version: \" + str(payloadDict[\"version\"]))\n",
    "    print(\"+++++++++++++++++++++++\\n\\n\")\n",
    "\n",
    "    for k, v in payloadDict[\"state\"][\"switch\"].items():\n",
    "        Ctrl_Values[\"switch\"][k] = int(v)\n",
    "    "
   ]
  },
  {
   "cell_type": "code",
   "execution_count": null,
   "metadata": {
    "scrolled": true
   },
   "outputs": [
    {
     "name": "stdout",
     "output_type": "stream",
     "text": [
      "~~~~~~~~~~~~~~~~~~~~~~~\n",
      "Delete request with token: a79dd682-0c7d-4b97-8be2-1d834d9e93be accepted!\n",
      "~~~~~~~~~~~~~~~~~~~~~~~\n",
      "\n",
      "\n"
     ]
    }
   ],
   "source": [
    "from AWSIoTPythonSDK.MQTTLib import AWSIoTMQTTShadowClient\n",
    "from AWSIoTPythonSDK.MQTTLib import AWSIoTMQTTClient\n",
    "\n",
    "import logging\n",
    "import time\n",
    "import json\n",
    "import argparse\n",
    "\n",
    "myAWSIoTMQTTShadowClient = AWSIoTMQTTShadowClient(aws_deviceid)\n",
    "myAWSIoTMQTTShadowClient.configureEndpoint(endpoint, 8883)\n",
    "myAWSIoTMQTTShadowClient.configureCredentials(filepath_route_ca, filepath_private_key, filepath_certificate)\n",
    "\n",
    "# AWSIoTMQTTShadowClient configuration\n",
    "myAWSIoTMQTTShadowClient.configureAutoReconnectBackoffTime(1, 32, 20)\n",
    "myAWSIoTMQTTShadowClient.configureConnectDisconnectTimeout(10)  # 10 sec\n",
    "myAWSIoTMQTTShadowClient.configureMQTTOperationTimeout(5)  # 5 sec\n",
    "\n",
    "# Connect to AWS IoT\n",
    "myAWSIoTMQTTShadowClient.connect()\n",
    "\n",
    "# MQTTClient = myAWSIoTMQTTShadowClient.getMQTTConnection()\n",
    "# MQTTClient.configureOfflinePublishQueueing(yourQueueSize, yourDropBehavior)\n",
    "\n",
    "# Create a deviceShadow with persistent subscription\n",
    "deviceShadowHandler = myAWSIoTMQTTShadowClient.createShadowHandlerWithName(\"test_vm_ubuntu_2\", True)\n",
    "\n",
    "# Delete shadow JSON doc\n",
    "deviceShadowHandler.shadowDelete(customShadowCallback_Delete, 5)\n",
    "\n",
    "# Create a deviceShadow with persistent subscription\n",
    "# deviceShadowHandler = myAWSIoTMQTTShadowClient.createShadowHandlerWithName(\"MyBot\", True)\n",
    "\n",
    "# Listen on deltas\n",
    "deviceShadowHandler.shadowRegisterDeltaCallback(customShadowCallback_Delta)\n",
    "\n",
    "# Update shadow desired init state\n",
    "JSONPayload = '{\"state\":{\"reported\":'+json.dumps(State_Values)+'}}'\n",
    "deviceShadowHandler.shadowUpdate(JSONPayload, customShadowCallback_Update, 5)\n",
    "\n",
    "\n",
    "# Update shadow in a loop\n",
    "switch_loop_count = 0\n",
    "signal_loop_count = 0\n",
    "while True:\n",
    "    switch_loop_count += 1\n",
    "    signal_loop_count += 1\n",
    "    JSONPayload = '{\"state\":{\"reported\":'+json.dumps(State_Values)+'}}'\n",
    "    deviceShadowHandler.shadowUpdate(JSONPayload, customShadowCallback_Update, 5)\n",
    "\n",
    "    \n",
    "    if switch_loop_count < 20: \n",
    "        State_Values['switch'][2]['position'] = 1\n",
    "        State_Values['switch'][3]['position'] = 1\n",
    "    elif switch_loop_count < 40:\n",
    "        State_Values['switch'][2]['position'] = 0\n",
    "        State_Values['switch'][3]['position'] = 0\n",
    "    else:\n",
    "        switch_loop_count = 0\n",
    "\n",
    "    if signal_loop_count < 20: \n",
    "        State_Values['signal'][0]['indication'] = 0\n",
    "        State_Values['signal'][1]['indication'] = 0\n",
    "    elif signal_loop_count < 40:\n",
    "        State_Values['signal'][0]['indication'] = 1\n",
    "        State_Values['signal'][1]['indication'] = 1\n",
    "    elif signal_loop_count < 60:\n",
    "        State_Values['signal'][0]['indication'] = 2\n",
    "        State_Values['signal'][1]['indication'] = 2\n",
    "    else:\n",
    "        signal_loop_count = 0\n",
    "        \n",
    "        \n",
    "    time.sleep(1)\n"
   ]
  },
  {
   "cell_type": "code",
   "execution_count": null,
   "metadata": {
    "collapsed": true
   },
   "outputs": [],
   "source": []
  },
  {
   "cell_type": "code",
   "execution_count": null,
   "metadata": {
    "collapsed": true
   },
   "outputs": [],
   "source": []
  },
  {
   "cell_type": "code",
   "execution_count": null,
   "metadata": {
    "collapsed": true
   },
   "outputs": [],
   "source": []
  }
 ],
 "metadata": {
  "kernelspec": {
   "display_name": "Python 3",
   "language": "python",
   "name": "python3"
  },
  "language_info": {
   "codemirror_mode": {
    "name": "ipython",
    "version": 3
   },
   "file_extension": ".py",
   "mimetype": "text/x-python",
   "name": "python",
   "nbconvert_exporter": "python",
   "pygments_lexer": "ipython3",
   "version": "3.6.3"
  }
 },
 "nbformat": 4,
 "nbformat_minor": 2
}
